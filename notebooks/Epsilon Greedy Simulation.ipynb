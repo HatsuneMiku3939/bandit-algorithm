{
 "cells": [
  {
   "cell_type": "code",
   "execution_count": null,
   "metadata": {},
   "outputs": [],
   "source": [
    "# package import\n",
    "\n",
    "import sys\n",
    "\n",
    "lib_path = \"../lib/algorithms\"\n",
    "sys.path.append(lib_path)\n",
    "\n",
    "lib_path = \"../lib/arms\"\n",
    "sys.path.append(lib_path)\n",
    "\n",
    "lib_path = \"../lib/simulation\"\n",
    "sys.path.append(lib_path)\n",
    "\n",
    "import epsilon_greedy\n",
    "from epsilon_greedy import EpsilonGreedy\n",
    "\n",
    "import bernoulli\n",
    "from bernoulli import BernoulliArm\n",
    "\n",
    "import simulation\n",
    "from simulation import test_algorithm\n",
    "\n",
    "import random\n",
    "import time"
   ]
  },
  {
   "cell_type": "code",
   "execution_count": null,
   "metadata": {},
   "outputs": [],
   "source": [
    "# declaration of some utility functions\n",
    "def ind_max(x):\n",
    "    m = max(x)\n",
    "    return x.index(m)"
   ]
  },
  {
   "cell_type": "code",
   "execution_count": null,
   "metadata": {},
   "outputs": [],
   "source": [
    "#random.seed(1)\n",
    "random.seed(time.time())\n",
    "\n",
    "means = [0.1, 0.1, 0.1, 0.1, 0.9]\n",
    "n_arms = len(means)\n",
    "random.shuffle(means)\n",
    "arms =  list(map(lambda mu: BernoulliArm(mu), means))\n",
    "best_arm = ind_max(means)\n",
    "print(\"Best arm is \" + str(best_arm))\n",
    "\n",
    "for epsilon in [0.1, 0.2, 0.3, 0.4, 0.5]:\n",
    "    algo = EpsilonGreedy(epsilon, 0, 0)\n",
    "    algo.initialize(n_arms)\n",
    "    results = test_algorithm(algo, arms, 100)\n",
    "    \n",
    "    probability_of_select_bestarm = 0.0\n",
    "    n_select_best = 0\n",
    "    \n",
    "    for i in range(len(results)):\n",
    "        t, chosen_arm, reward, cumulative_reward = results[i]\n",
    "        if chosen_arm == best_arm:\n",
    "            n_select_best += 1\n",
    "        probability_of_select_bestarm = n_select_best / float(t)\n",
    "        print(\"epsilon\", epsilon, \n",
    "              \"times\", t, \n",
    "              \"chosen arm\", chosen_arm, \n",
    "              \"reward\", reward, \n",
    "              \"cumulative_reward\", cumulative_reward, \n",
    "              \"probability_of_select_bestarm\", probability_of_select_bestarm)\n",
    "        "
   ]
  },
  {
   "cell_type": "code",
   "execution_count": null,
   "metadata": {},
   "outputs": [],
   "source": []
  }
 ],
 "metadata": {
  "kernelspec": {
   "display_name": "Python 3",
   "language": "python",
   "name": "python3"
  },
  "language_info": {
   "codemirror_mode": {
    "name": "ipython",
    "version": 3
   },
   "file_extension": ".py",
   "mimetype": "text/x-python",
   "name": "python",
   "nbconvert_exporter": "python",
   "pygments_lexer": "ipython3",
   "version": "3.5.2"
  }
 },
 "nbformat": 4,
 "nbformat_minor": 2
}
